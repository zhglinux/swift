{
 "cells": [
  {
   "cell_type": "markdown",
   "metadata": {},
   "source": [
    "### iOS日常问题"
   ]
  },
  {
   "cell_type": "markdown",
   "metadata": {},
   "source": [
    "## 1 "
   ]
  },
  {
   "cell_type": "markdown",
   "metadata": {},
   "source": [
    "####    1.1   iOS   sizeclase  "
   ]
  },
  {
   "cell_type": "markdown",
   "metadata": {},
   "source": [
    "[iOS 屏幕适配，autoResizing autoLayout和sizeClass图文详解](http://www.baidu.com)"
   ]
  },
  {
   "cell_type": "markdown",
   "metadata": {},
   "source": [
    "sizeClass只是对屏幕进行了抽象分类；具体做屏幕的适配还得用autoLayout；  \n",
    "没有了横竖屏的概念，也没有了具体尺寸，不用在去谈具体的iphone5还是ipad air；"
   ]
  },
  {
   "cell_type": "markdown",
   "metadata": {},
   "source": [
    "<a href=\"http://write.blog.csdn.net/postlist\" target=\"_blank\">跳到自己博客列表</a>  \n",
    "跳到自己博客列表：[http://write.blog.csdn.net/postlist](http://write.blog.csdn.net/postlist)"
   ]
  },
  {
   "cell_type": "markdown",
   "metadata": {},
   "source": [
    "<a id = 'test1'></a>\n",
    "#test1\n",
    "<a id=http://www.cnblogs.com/cxbblog/p/4166876.html></a>\n",
    "展示图片 \n",
    "![Alt text](http://img.blog.csdn.net/20160628143026963 \"Optional title\")\n",
    "效果如下\n",
    "![asd](http://img.blog.csdn.net/20160628143133792)"
   ]
  },
  {
   "cell_type": "markdown",
   "metadata": {},
   "source": [
    "[跳到自己博客列表](http://write.blog.csdn.net/postlist)"
   ]
  },
  {
   "cell_type": "markdown",
   "metadata": {},
   "source": [
    "table tr td 的使用\n",
    "<table>\n",
    "    <tr>\n",
    "        <td>Foo</td>\n",
    "        <td>Foo</td>\n",
    "    </tr>\n",
    "    <tr>\n",
    "        <td>Foo</td>\n",
    "        <td>Foo</td>\n",
    "    </tr>\n",
    "    <tr>\n",
    "        <td>Foo</td>\n",
    "        <td>Foo</td>\n",
    "    </tr>\n",
    "\n",
    "\n",
    "</table>\n"
   ]
  },
  {
   "cell_type": "markdown",
   "metadata": {},
   "source": [
    "# adsfas"
   ]
  },
  {
   "cell_type": "markdown",
   "metadata": {},
   "source": [
    "<center>\n",
    "<img src=\"http://img.blog.csdn.net/20151129213701642\" width=\"25%\" height=\"25%\" />\n",
    "Figure 1. Lena\n",
    "</center"
   ]
  },
  {
   "cell_type": "markdown",
   "metadata": {},
   "source": [
    "<img src=\"http://img.blog.csdn.net/20151129213701642\" width=256 height=256 />"
   ]
  },
  {
   "cell_type": "markdown",
   "metadata": {},
   "source": [
    "mark dwown"
   ]
  },
  {
   "cell_type": "markdown",
   "metadata": {},
   "source": [
    "## this is good"
   ]
  },
  {
   "cell_type": "markdown",
   "metadata": {},
   "source": [
    "1. 编辑第一行的时候前后加上<br/>和</br>\n"
   ]
  },
  {
   "cell_type": "raw",
   "metadata": {},
   "source": [
    "2. 编辑好一行文字后敲两个空格，再按回车键编辑另一行文字"
   ]
  },
  {
   "cell_type": "markdown",
   "metadata": {},
   "source": [
    "3. 编辑一行文字后再加一行空行 "
   ]
  },
  {
   "cell_type": "markdown",
   "metadata": {},
   "source": [
    "2. 编辑好一行文字后敲两个空格，再按回车键编辑另一行文字"
   ]
  },
  {
   "cell_type": "markdown",
   "metadata": {},
   "source": []
  },
  {
   "cell_type": "markdown",
   "metadata": {},
   "source": []
  },
  {
   "cell_type": "markdown",
   "metadata": {},
   "source": []
  },
  {
   "cell_type": "markdown",
   "metadata": {},
   "source": []
  },
  {
   "cell_type": "markdown",
   "metadata": {},
   "source": []
  },
  {
   "cell_type": "markdown",
   "metadata": {},
   "source": []
  },
  {
   "cell_type": "markdown",
   "metadata": {},
   "source": []
  },
  {
   "cell_type": "markdown",
   "metadata": {},
   "source": []
  },
  {
   "cell_type": "markdown",
   "metadata": {},
   "source": []
  },
  {
   "cell_type": "markdown",
   "metadata": {},
   "source": []
  }
 ],
 "metadata": {
  "kernelspec": {
   "display_name": "Python 2",
   "language": "python",
   "name": "python2"
  },
  "language_info": {
   "codemirror_mode": {
    "name": "ipython",
    "version": 2
   },
   "file_extension": ".py",
   "mimetype": "text/x-python",
   "name": "python",
   "nbconvert_exporter": "python",
   "pygments_lexer": "ipython2",
   "version": "2.7.14"
  }
 },
 "nbformat": 4,
 "nbformat_minor": 2
}
